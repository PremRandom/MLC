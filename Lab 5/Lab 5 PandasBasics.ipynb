{
 "cells": [
  {
   "cell_type": "markdown",
   "id": "067b9945",
   "metadata": {},
   "source": [
    "## Lab 5 - Pandas Basics "
   ]
  },
  {
   "cell_type": "code",
   "execution_count": 1,
   "id": "adfef414",
   "metadata": {},
   "outputs": [],
   "source": [
    "import numpy as np\n",
    "import pandas as pd"
   ]
  },
  {
   "cell_type": "markdown",
   "id": "1956cafd",
   "metadata": {},
   "source": [
    "#### Pandas functions and basics "
   ]
  },
  {
   "cell_type": "code",
   "execution_count": 9,
   "id": "5f8f3de3",
   "metadata": {
    "scrolled": true
   },
   "outputs": [
    {
     "name": "stdout",
     "output_type": "stream",
     "text": [
      "0    10.0\n",
      "1    20.0\n",
      "2    34.0\n",
      "3    53.0\n",
      "4    65.0\n",
      "dtype: float64\n"
     ]
    }
   ],
   "source": [
    "arr1 = np.array([10,20,34,53,65])\n",
    "s1 = pd.Series(arr1, dtype = np.float64)\n",
    "print(s1)\n"
   ]
  },
  {
   "cell_type": "code",
   "execution_count": 10,
   "id": "feb452cc",
   "metadata": {},
   "outputs": [
    {
     "name": "stdout",
     "output_type": "stream",
     "text": [
      "first     a\n",
      "second    b\n",
      "third     c\n",
      "fourth    d\n",
      "dtype: object\n"
     ]
    }
   ],
   "source": [
    "arr2 = np.array(['a','b','c','d'])\n",
    "s2 = pd.Series(arr2, index=['first', 'second', 'third', 'fourth'])\n",
    "print(s2)"
   ]
  },
  {
   "cell_type": "markdown",
   "id": "267ea469",
   "metadata": {},
   "source": [
    "##### Add 2 series"
   ]
  },
  {
   "cell_type": "code",
   "execution_count": 13,
   "id": "ba1d1998",
   "metadata": {},
   "outputs": [
    {
     "name": "stdout",
     "output_type": "stream",
     "text": [
      "0    2\n",
      "1    3\n",
      "2    5\n",
      "3    3\n",
      "4    6\n",
      "dtype: int64\n",
      "\n",
      "0    4\n",
      "1    7\n",
      "2    2\n",
      "3    5\n",
      "4    1\n",
      "dtype: int64\n",
      "\n",
      "0     6\n",
      "1    10\n",
      "2     7\n",
      "3     8\n",
      "4     7\n",
      "dtype: int64\n"
     ]
    }
   ],
   "source": [
    "#np arrays\n",
    "arr10 = np.random.randint(0,9,5)\n",
    "arr11 = np.random.randint(0,9,5)\n",
    "\n",
    "#pd series\n",
    "s10 = pd.Series(arr10)\n",
    "s11 = pd.Series(arr11)\n",
    "\n",
    "print(s10)\n",
    "print()\n",
    "print(s11)\n",
    "\n",
    "#adding 2 series\n",
    "s12 = s10+s11\n",
    "print()\n",
    "print(s12)"
   ]
  },
  {
   "cell_type": "markdown",
   "id": "9cde6731",
   "metadata": {},
   "source": [
    "#### add with missing value "
   ]
  },
  {
   "cell_type": "code",
   "execution_count": 15,
   "id": "984e9626",
   "metadata": {},
   "outputs": [
    {
     "name": "stdout",
     "output_type": "stream",
     "text": [
      "0    6\n",
      "1    5\n",
      "2    5\n",
      "3    7\n",
      "4    2\n",
      "dtype: int64\n",
      "\n",
      "0    7\n",
      "1    7\n",
      "2    1\n",
      "3    0\n",
      "dtype: int64\n",
      "\n",
      "0    13.0\n",
      "1    12.0\n",
      "2     6.0\n",
      "3     7.0\n",
      "4     NaN\n",
      "dtype: float64\n"
     ]
    }
   ],
   "source": [
    "print(s10)\n",
    "print()\n",
    "print(s11)\n",
    "\n",
    "#adding 2 series\n",
    "s13 = s10+s11\n",
    "print()\n",
    "print(s13)"
   ]
  },
  {
   "cell_type": "markdown",
   "id": "c359b0f9",
   "metadata": {},
   "source": [
    "#### manage NaN value with fill value "
   ]
  },
  {
   "cell_type": "code",
   "execution_count": 17,
   "id": "a90d4b43",
   "metadata": {},
   "outputs": [
    {
     "name": "stdout",
     "output_type": "stream",
     "text": [
      "0    6\n",
      "1    5\n",
      "2    5\n",
      "3    7\n",
      "4    2\n",
      "dtype: int64\n",
      "\n",
      "0    7\n",
      "1    7\n",
      "2    1\n",
      "3    0\n",
      "dtype: int64\n",
      "\n",
      "0    13.0\n",
      "1    12.0\n",
      "2     6.0\n",
      "3     7.0\n",
      "4     2.0\n",
      "dtype: float64\n"
     ]
    }
   ],
   "source": [
    "print(s10)\n",
    "print()\n",
    "print(s11)\n",
    "\n",
    "#adding 2 series\n",
    "\n",
    "s14 = s10.add(s11, fill_value = 0)\n",
    "\n",
    "print()\n",
    "print(s14)"
   ]
  },
  {
   "cell_type": "markdown",
   "id": "3149345d",
   "metadata": {},
   "source": [
    "#### head() "
   ]
  },
  {
   "cell_type": "code",
   "execution_count": 19,
   "id": "703096bf",
   "metadata": {},
   "outputs": [
    {
     "name": "stdout",
     "output_type": "stream",
     "text": [
      "0     7\n",
      "1     3\n",
      "2     0\n",
      "3     1\n",
      "4     5\n",
      "5     3\n",
      "6     1\n",
      "7     4\n",
      "8     0\n",
      "9     7\n",
      "10    8\n",
      "11    0\n",
      "12    5\n",
      "13    5\n",
      "14    0\n",
      "15    1\n",
      "16    0\n",
      "17    3\n",
      "18    7\n",
      "19    6\n",
      "dtype: int64\n",
      "\n",
      "0    7\n",
      "1    3\n",
      "2    0\n",
      "3    1\n",
      "4    5\n",
      "dtype: int64\n",
      "\n",
      "0    7\n",
      "1    3\n",
      "2    0\n",
      "dtype: int64\n"
     ]
    }
   ],
   "source": [
    "#np arrays\n",
    "arr20 = np.random.randint(0,9,20)\n",
    "\n",
    "\n",
    "#pd series\n",
    "s20 = pd.Series(arr20)\n",
    "\n",
    "\n",
    "print(s20)\n",
    "print()\n",
    "#head()\n",
    "print(s20.head())\n",
    "print()\n",
    "print(s20.head(3))"
   ]
  }
 ],
 "metadata": {
  "kernelspec": {
   "display_name": "Python 3 (ipykernel)",
   "language": "python",
   "name": "python3"
  },
  "language_info": {
   "codemirror_mode": {
    "name": "ipython",
    "version": 3
   },
   "file_extension": ".py",
   "mimetype": "text/x-python",
   "name": "python",
   "nbconvert_exporter": "python",
   "pygments_lexer": "ipython3",
   "version": "3.11.4"
  }
 },
 "nbformat": 4,
 "nbformat_minor": 5
}
