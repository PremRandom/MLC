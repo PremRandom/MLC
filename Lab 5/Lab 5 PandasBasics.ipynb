{
 "cells": [
  {
   "cell_type": "markdown",
   "id": "067b9945",
   "metadata": {},
   "source": [
    "## Lab 5 - Pandas Basics "
   ]
  },
  {
   "cell_type": "code",
   "execution_count": 1,
   "id": "adfef414",
   "metadata": {},
   "outputs": [],
   "source": [
    "import numpy as np\n",
    "import pandas as pd"
   ]
  },
  {
   "cell_type": "markdown",
   "id": "1956cafd",
   "metadata": {},
   "source": [
    "#### Pandas functions and basics "
   ]
  },
  {
   "cell_type": "code",
   "execution_count": 2,
   "id": "5f8f3de3",
   "metadata": {
    "scrolled": true
   },
   "outputs": [
    {
     "name": "stdout",
     "output_type": "stream",
     "text": [
      "0    10.0\n",
      "1    20.0\n",
      "2    34.0\n",
      "3    53.0\n",
      "4    65.0\n",
      "dtype: float64\n"
     ]
    }
   ],
   "source": [
    "arr1 = np.array([10,20,34,53,65])\n",
    "s1 = pd.Series(arr1, dtype = np.float64)\n",
    "print(s1)\n"
   ]
  },
  {
   "cell_type": "code",
   "execution_count": 3,
   "id": "feb452cc",
   "metadata": {},
   "outputs": [
    {
     "name": "stdout",
     "output_type": "stream",
     "text": [
      "first     a\n",
      "second    b\n",
      "third     c\n",
      "fourth    d\n",
      "dtype: object\n"
     ]
    }
   ],
   "source": [
    "arr2 = np.array(['a','b','c','d'])\n",
    "s2 = pd.Series(arr2, index=['first', 'second', 'third', 'fourth'])\n",
    "print(s2)"
   ]
  },
  {
   "cell_type": "markdown",
   "id": "267ea469",
   "metadata": {},
   "source": [
    "##### Add 2 series"
   ]
  },
  {
   "cell_type": "code",
   "execution_count": 4,
   "id": "ba1d1998",
   "metadata": {},
   "outputs": [
    {
     "name": "stdout",
     "output_type": "stream",
     "text": [
      "0    1\n",
      "1    7\n",
      "2    1\n",
      "3    8\n",
      "4    6\n",
      "dtype: int64\n",
      "\n",
      "0    2\n",
      "1    7\n",
      "2    4\n",
      "3    3\n",
      "4    6\n",
      "dtype: int64\n",
      "\n",
      "0     3\n",
      "1    14\n",
      "2     5\n",
      "3    11\n",
      "4    12\n",
      "dtype: int64\n"
     ]
    }
   ],
   "source": [
    "#np arrays\n",
    "arr10 = np.random.randint(0,9,5)\n",
    "arr11 = np.random.randint(0,9,5)\n",
    "\n",
    "#pd series\n",
    "s10 = pd.Series(arr10)\n",
    "s11 = pd.Series(arr11)\n",
    "\n",
    "print(s10)\n",
    "print()\n",
    "print(s11)\n",
    "\n",
    "#adding 2 series\n",
    "s12 = s10+s11\n",
    "print()\n",
    "print(s12)"
   ]
  },
  {
   "cell_type": "markdown",
   "id": "9cde6731",
   "metadata": {},
   "source": [
    "#### add with missing value "
   ]
  },
  {
   "cell_type": "code",
   "execution_count": 5,
   "id": "984e9626",
   "metadata": {},
   "outputs": [
    {
     "name": "stdout",
     "output_type": "stream",
     "text": [
      "0    1\n",
      "1    7\n",
      "2    1\n",
      "3    8\n",
      "4    6\n",
      "dtype: int64\n",
      "\n",
      "0    2\n",
      "1    7\n",
      "2    4\n",
      "3    3\n",
      "4    6\n",
      "dtype: int64\n",
      "\n",
      "0     3\n",
      "1    14\n",
      "2     5\n",
      "3    11\n",
      "4    12\n",
      "dtype: int64\n"
     ]
    }
   ],
   "source": [
    "print(s10)\n",
    "print()\n",
    "print(s11)\n",
    "\n",
    "#adding 2 series\n",
    "s13 = s10+s11\n",
    "print()\n",
    "print(s13)"
   ]
  },
  {
   "cell_type": "markdown",
   "id": "c359b0f9",
   "metadata": {},
   "source": [
    "#### manage NaN value with fill value "
   ]
  },
  {
   "cell_type": "code",
   "execution_count": 6,
   "id": "a90d4b43",
   "metadata": {},
   "outputs": [
    {
     "name": "stdout",
     "output_type": "stream",
     "text": [
      "0    1\n",
      "1    7\n",
      "2    1\n",
      "3    8\n",
      "4    6\n",
      "dtype: int64\n",
      "\n",
      "0    2\n",
      "1    7\n",
      "2    4\n",
      "3    3\n",
      "4    6\n",
      "dtype: int64\n",
      "\n",
      "0     3\n",
      "1    14\n",
      "2     5\n",
      "3    11\n",
      "4    12\n",
      "dtype: int64\n"
     ]
    }
   ],
   "source": [
    "print(s10)\n",
    "print()\n",
    "print(s11)\n",
    "\n",
    "#adding 2 series\n",
    "\n",
    "s14 = s10.add(s11, fill_value = 0)\n",
    "\n",
    "print()\n",
    "print(s14)"
   ]
  },
  {
   "cell_type": "markdown",
   "id": "95be0fe4",
   "metadata": {},
   "source": [
    "#### head() "
   ]
  },
  {
   "cell_type": "code",
   "execution_count": 7,
   "id": "d2654c22",
   "metadata": {},
   "outputs": [
    {
     "name": "stdout",
     "output_type": "stream",
     "text": [
      "0     4\n",
      "1     6\n",
      "2     6\n",
      "3     1\n",
      "4     4\n",
      "5     0\n",
      "6     7\n",
      "7     8\n",
      "8     7\n",
      "9     3\n",
      "10    0\n",
      "11    3\n",
      "12    0\n",
      "13    7\n",
      "14    1\n",
      "15    6\n",
      "16    7\n",
      "17    6\n",
      "18    3\n",
      "19    2\n",
      "dtype: int64\n",
      "\n",
      "0    4\n",
      "1    6\n",
      "2    6\n",
      "3    1\n",
      "4    4\n",
      "dtype: int64\n",
      "\n",
      "0    4\n",
      "1    6\n",
      "2    6\n",
      "dtype: int64\n"
     ]
    }
   ],
   "source": [
    "#np arrays\n",
    "arr20 = np.random.randint(0,9,20)\n",
    "\n",
    "\n",
    "#pd series\n",
    "s20 = pd.Series(arr20)\n",
    "\n",
    "\n",
    "print(s20)\n",
    "print()\n",
    "#head()\n",
    "print(s20.head())\n",
    "print()\n",
    "print(s20.head(3))"
   ]
  }
 ],
 "metadata": {
  "kernelspec": {
   "display_name": "Python 3 (ipykernel)",
   "language": "python",
   "name": "python3"
  },
  "language_info": {
   "codemirror_mode": {
    "name": "ipython",
    "version": 3
   },
   "file_extension": ".py",
   "mimetype": "text/x-python",
   "name": "python",
   "nbconvert_exporter": "python",
   "pygments_lexer": "ipython3",
   "version": "3.11.4"
  }
 },
 "nbformat": 4,
 "nbformat_minor": 5
}
