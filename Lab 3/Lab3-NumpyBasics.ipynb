{
 "cells": [
  {
   "cell_type": "markdown",
   "id": "1185d22e",
   "metadata": {},
   "source": [
    "# Lab 3 - Numpy"
   ]
  },
  {
   "cell_type": "markdown",
   "id": "128833cb",
   "metadata": {},
   "source": [
    "### np.array "
   ]
  },
  {
   "cell_type": "code",
   "execution_count": 1,
   "id": "9ac3e8bd",
   "metadata": {},
   "outputs": [],
   "source": [
    "#import\n",
    "import numpy as np"
   ]
  },
  {
   "cell_type": "code",
   "execution_count": 2,
   "id": "4c0932d5",
   "metadata": {},
   "outputs": [
    {
     "name": "stdout",
     "output_type": "stream",
     "text": [
      "[1 2 3]\n"
     ]
    }
   ],
   "source": [
    "a = np.array([1,2,3])\n",
    "print(a)"
   ]
  },
  {
   "cell_type": "code",
   "execution_count": 3,
   "id": "1d1739f9",
   "metadata": {},
   "outputs": [
    {
     "name": "stdout",
     "output_type": "stream",
     "text": [
      "[[2 3 4 5]\n",
      " [3 4 5 6]]\n"
     ]
    }
   ],
   "source": [
    "l1 = [2,3,4,5]\n",
    "l2 = [3,4,5,6]\n",
    "b = np.array([l1,l2])\n",
    "print(b)"
   ]
  },
  {
   "cell_type": "code",
   "execution_count": 4,
   "id": "48ad9bf5",
   "metadata": {},
   "outputs": [
    {
     "name": "stdout",
     "output_type": "stream",
     "text": [
      "[0, 1, 2]\n",
      "3\n",
      "[0 1 2]\n",
      "3\n"
     ]
    }
   ],
   "source": [
    "x  = list(range(3))\n",
    "y = np.array(x)\n",
    "print(x)\n",
    "print(sum(x))\n",
    "print(y)\n",
    "print(np.sum(y))"
   ]
  },
  {
   "cell_type": "code",
   "execution_count": 5,
   "id": "ae208e4f",
   "metadata": {},
   "outputs": [
    {
     "name": "stdout",
     "output_type": "stream",
     "text": [
      "[0 1 2 3]\n"
     ]
    }
   ],
   "source": [
    "z = np.array(range(4))\n",
    "print(z)"
   ]
  },
  {
   "cell_type": "markdown",
   "id": "2e09ba95",
   "metadata": {},
   "source": [
    "### 2-D array "
   ]
  },
  {
   "cell_type": "code",
   "execution_count": 6,
   "id": "81d67ad4",
   "metadata": {},
   "outputs": [
    {
     "name": "stdout",
     "output_type": "stream",
     "text": [
      "[['1' '2' '3']\n",
      " ['2.3' 'hello' '3']]\n"
     ]
    }
   ],
   "source": [
    "mat = np.array([[1,2,3],[2.3,'hello', 3]])\n",
    "print(mat)"
   ]
  },
  {
   "cell_type": "markdown",
   "id": "df0a24ef",
   "metadata": {},
   "source": [
    "### Dimension, shape,  size and other methods"
   ]
  },
  {
   "cell_type": "code",
   "execution_count": 13,
   "id": "7fc2f60a",
   "metadata": {},
   "outputs": [
    {
     "name": "stdout",
     "output_type": "stream",
     "text": [
      "[['1' '2' '3' '5']\n",
      " ['4' '2.3' 'hello' 'ITER']]\n",
      "dimension:  2\n",
      "Shape:  (2, 4)\n",
      "Size:  8\n"
     ]
    }
   ],
   "source": [
    "mat2 = np.array([[1,2,3,5],[4,2.3,'hello', 'ITER']])\n",
    "print(mat2)\n",
    "print(\"dimension: \",mat2.ndim)\n",
    "print(\"Shape: \",mat2.shape)\n",
    "print(\"Size: \",mat2.size)"
   ]
  },
  {
   "cell_type": "code",
   "execution_count": 14,
   "id": "c6da8696",
   "metadata": {},
   "outputs": [
    {
     "name": "stdout",
     "output_type": "stream",
     "text": [
      "[1. 1. 1. 1. 1. 1. 1.]\n"
     ]
    }
   ],
   "source": [
    "arr1 = np.ones(7)\n",
    "print(arr1)"
   ]
  },
  {
   "cell_type": "code",
   "execution_count": 16,
   "id": "18b686dc",
   "metadata": {},
   "outputs": [
    {
     "name": "stdout",
     "output_type": "stream",
     "text": [
      "[ 1  2  3  4  5  6  7  8  9 10 11 12 13 14 15 16]\n"
     ]
    }
   ],
   "source": [
    "arr2 = np.arange(1,17)\n",
    "print(arr2)"
   ]
  },
  {
   "cell_type": "code",
   "execution_count": 17,
   "id": "0e77309e",
   "metadata": {},
   "outputs": [
    {
     "name": "stdout",
     "output_type": "stream",
     "text": [
      "[[10 10 10]\n",
      " [10 10 10]]\n"
     ]
    }
   ],
   "source": [
    "arr3 = np.full((2,3),10)\n",
    "print(arr3)"
   ]
  },
  {
   "cell_type": "code",
   "execution_count": 35,
   "id": "250fbc71",
   "metadata": {},
   "outputs": [
    {
     "name": "stdout",
     "output_type": "stream",
     "text": [
      "[0 1 2 3 4]\n",
      "[1. 1. 1. 1. 1.]\n",
      "int64\n",
      "float64\n"
     ]
    },
    {
     "data": {
      "text/plain": [
       "dtype('float64')"
      ]
     },
     "execution_count": 35,
     "metadata": {},
     "output_type": "execute_result"
    }
   ],
   "source": [
    "arr4 = np.arange(5)\n",
    "arr5 = np.ones(5)\n",
    "print(arr4)\n",
    "print(arr5)\n",
    "print(arr4.dtype)\n",
    "print(arr5.dtype)"
   ]
  },
  {
   "cell_type": "markdown",
   "id": "d5c91193",
   "metadata": {},
   "source": [
    "#### WAP to define 2  numpy array and display its addition. "
   ]
  },
  {
   "cell_type": "code",
   "execution_count": 44,
   "id": "513b5e6a",
   "metadata": {},
   "outputs": [
    {
     "name": "stdout",
     "output_type": "stream",
     "text": [
      "[[ 1  2  3  4  5]\n",
      " [ 6  7  8  9 10]] \n",
      "\n",
      "\n",
      "[[11 12 13 14 15]\n",
      " [16 17 18 19 20]] \n",
      "\n",
      "\n",
      "[[12 14 16 18 20]\n",
      " [22 24 26 28 30]] \n",
      "\n",
      "\n"
     ]
    }
   ],
   "source": [
    "arr10 = np.array([list(range(1,6)),list(range(6,11))])\n",
    "arr11 = np.array([list(range(11,16)),list(range(16,21))])\n",
    "res1 = arr10 + arr11\n",
    "print(arr10,\"\\n\\n\")\n",
    "print(arr11,\"\\n\\n\")\n",
    "print(res1,\"\\n\\n\")"
   ]
  },
  {
   "cell_type": "code",
   "execution_count": 45,
   "id": "203451a3",
   "metadata": {},
   "outputs": [
    {
     "name": "stdout",
     "output_type": "stream",
     "text": [
      "[7 0 2 3 5] \n",
      "\n",
      "\n",
      "[1 5 4 8 7] \n",
      "\n",
      "\n",
      "[ 8  5  6 11 12] \n",
      "\n",
      "\n"
     ]
    }
   ],
   "source": [
    "arr12 = np.random.randint(0,10,5)\n",
    "arr13 = np.random.randint(0,10,5)\n",
    "res2 = arr12 + arr13\n",
    "print(arr12,\"\\n\\n\")\n",
    "print(arr13,\"\\n\\n\")\n",
    "print(res2,\"\\n\\n\")"
   ]
  },
  {
   "cell_type": "markdown",
   "id": "48510f4b",
   "metadata": {},
   "source": [
    "#### WAP 2 array, compare each no, find how many times arr1 was greater  "
   ]
  },
  {
   "cell_type": "code",
   "execution_count": 51,
   "id": "4af3e4db",
   "metadata": {},
   "outputs": [
    {
     "name": "stdout",
     "output_type": "stream",
     "text": [
      "[69 17  9 42 55 11 39 85 59  2] \n",
      "\n",
      "\n",
      "[33 23 56 28 75 97 25 13 15 68] \n",
      "\n",
      "\n",
      "5\n"
     ]
    }
   ],
   "source": [
    "arr20 =  np.random.randint(0,101,10)\n",
    "arr21 =  np.random.randint(0,101,10)\n",
    "no_of_times = 0\n",
    "for i in range(10):\n",
    "    if(arr20[i]>arr21[i]):\n",
    "        no_of_times += 1\n",
    "\n",
    "print(arr20,\"\\n\\n\")\n",
    "print(arr21,\"\\n\\n\")        \n",
    "print(no_of_times)\n"
   ]
  },
  {
   "cell_type": "markdown",
   "id": "ff6cd43b",
   "metadata": {},
   "source": [
    "#### WAP to find avg marks, and marks above avg "
   ]
  },
  {
   "cell_type": "code",
   "execution_count": 58,
   "id": "9b652f46",
   "metadata": {},
   "outputs": [
    {
     "name": "stdout",
     "output_type": "stream",
     "text": [
      "[78 98 97 42 40 62 31 79 58 89] \n",
      "\n",
      "\n",
      "avg marks =  67.4\n",
      "student 0 has scored: 78\n",
      "student 1 has scored: 98\n",
      "student 2 has scored: 97\n",
      "student 7 has scored: 79\n",
      "student 9 has scored: 89\n"
     ]
    }
   ],
   "source": [
    "arr30 =  np.random.randint(30,101,10)\n",
    "\n",
    "#avg_marks = np.sum(arr30)/10\n",
    "avg_marks = np.mean(arr30)\n",
    "\n",
    "print(arr30,\"\\n\\n\")\n",
    "print(\"avg marks = \", avg_marks)\n",
    "\n",
    "for i in range(10):\n",
    "    if(arr30[i]>= avg_marks):\n",
    "        print(f\"student {i} has scored: {arr30[i]}\")"
   ]
  },
  {
   "cell_type": "markdown",
   "id": "d9b424a5",
   "metadata": {},
   "source": [
    "#### WAP to create 4X4, val:1-16   a) extract 2nd row  b) extract 3rd col c) slice 2X2 bottom right"
   ]
  },
  {
   "cell_type": "code",
   "execution_count": 69,
   "id": "28a65e05",
   "metadata": {},
   "outputs": [
    {
     "name": "stdout",
     "output_type": "stream",
     "text": [
      "[[ 1  2  3  4]\n",
      " [ 5  6  7  8]\n",
      " [ 9 10 11 12]\n",
      " [13 14 15 16]] \n",
      "\n",
      "\n",
      "2nd row :  [5 6 7 8]\n",
      "3rd col :  [ 3  7 11 15]\n",
      "2X2 bottom right : \n",
      " [[11 12]\n",
      " [15 16]]\n"
     ]
    }
   ],
   "source": [
    "arr40 = np.array([list(range(1,5)),list(range(5,9)),list(range(9,13)),list(range(13,17))])\n",
    "\n",
    "print(arr40,\"\\n\\n\")\n",
    "\n",
    "print(\"2nd row : \", arr40[1])\n",
    "print(\"3rd col : \", arr40[:,2])\n",
    "print(\"2X2 bottom right : \\n\", arr40[2:,2:])"
   ]
  }
 ],
 "metadata": {
  "kernelspec": {
   "display_name": "Python 3 (ipykernel)",
   "language": "python",
   "name": "python3"
  },
  "language_info": {
   "codemirror_mode": {
    "name": "ipython",
    "version": 3
   },
   "file_extension": ".py",
   "mimetype": "text/x-python",
   "name": "python",
   "nbconvert_exporter": "python",
   "pygments_lexer": "ipython3",
   "version": "3.11.4"
  }
 },
 "nbformat": 4,
 "nbformat_minor": 5
}
