{
 "cells": [
  {
   "cell_type": "markdown",
   "id": "1185d22e",
   "metadata": {},
   "source": [
    "# Lab 3 - Numpy"
   ]
  },
  {
   "cell_type": "markdown",
   "id": "128833cb",
   "metadata": {},
   "source": [
    "### np.array "
   ]
  },
  {
   "cell_type": "code",
   "execution_count": 1,
   "id": "9ac3e8bd",
   "metadata": {},
   "outputs": [],
   "source": [
    "#import\n",
    "import numpy as np"
   ]
  },
  {
   "cell_type": "code",
   "execution_count": 2,
   "id": "4c0932d5",
   "metadata": {},
   "outputs": [
    {
     "name": "stdout",
     "output_type": "stream",
     "text": [
      "[1 2 3]\n"
     ]
    }
   ],
   "source": [
    "a = np.array([1,2,3])\n",
    "print(a)"
   ]
  },
  {
   "cell_type": "code",
   "execution_count": 3,
   "id": "1d1739f9",
   "metadata": {},
   "outputs": [
    {
     "name": "stdout",
     "output_type": "stream",
     "text": [
      "[[2 3 4 5]\n",
      " [3 4 5 6]]\n"
     ]
    }
   ],
   "source": [
    "l1 = [2,3,4,5]\n",
    "l2 = [3,4,5,6]\n",
    "b = np.array([l1,l2])\n",
    "print(b)"
   ]
  },
  {
   "cell_type": "code",
   "execution_count": 4,
   "id": "48ad9bf5",
   "metadata": {},
   "outputs": [
    {
     "name": "stdout",
     "output_type": "stream",
     "text": [
      "[0, 1, 2]\n",
      "3\n",
      "[0 1 2]\n",
      "3\n"
     ]
    }
   ],
   "source": [
    "x  = list(range(3))\n",
    "y = np.array(x)\n",
    "print(x)\n",
    "print(sum(x))\n",
    "print(y)\n",
    "print(np.sum(y))"
   ]
  },
  {
   "cell_type": "code",
   "execution_count": 5,
   "id": "ae208e4f",
   "metadata": {},
   "outputs": [
    {
     "name": "stdout",
     "output_type": "stream",
     "text": [
      "[0 1 2 3]\n"
     ]
    }
   ],
   "source": [
    "z = np.array(range(4))\n",
    "print(z)"
   ]
  },
  {
   "cell_type": "markdown",
   "id": "ff5d9444",
   "metadata": {},
   "source": [
    "### 2-D array "
   ]
  },
  {
   "cell_type": "code",
   "execution_count": 6,
   "id": "81d67ad4",
   "metadata": {},
   "outputs": [
    {
     "name": "stdout",
     "output_type": "stream",
     "text": [
      "[['1' '2' '3']\n",
      " ['2.3' 'hello' '3']]\n"
     ]
    }
   ],
   "source": [
    "mat = np.array([[1,2,3],[2.3,'hello', 3]])\n",
    "print(mat)"
   ]
  },
  {
   "cell_type": "markdown",
   "id": "64b3c382",
   "metadata": {},
   "source": [
    "### Dimension, shape,  size and other methods"
   ]
  },
  {
   "cell_type": "code",
   "execution_count": 13,
   "id": "1c6df000",
   "metadata": {},
   "outputs": [
    {
     "name": "stdout",
     "output_type": "stream",
     "text": [
      "[['1' '2' '3' '5']\n",
      " ['4' '2.3' 'hello' 'ITER']]\n",
      "dimension:  2\n",
      "Shape:  (2, 4)\n",
      "Size:  8\n"
     ]
    }
   ],
   "source": [
    "mat2 = np.array([[1,2,3,5],[4,2.3,'hello', 'ITER']])\n",
    "print(mat2)\n",
    "print(\"dimension: \",mat2.ndim)\n",
    "print(\"Shape: \",mat2.shape)\n",
    "print(\"Size: \",mat2.size)"
   ]
  },
  {
   "cell_type": "code",
   "execution_count": 14,
   "id": "561addbc",
   "metadata": {},
   "outputs": [
    {
     "name": "stdout",
     "output_type": "stream",
     "text": [
      "[1. 1. 1. 1. 1. 1. 1.]\n"
     ]
    }
   ],
   "source": [
    "arr1 = np.ones(7)\n",
    "print(arr1)"
   ]
  },
  {
   "cell_type": "code",
   "execution_count": 16,
   "id": "362675a7",
   "metadata": {},
   "outputs": [
    {
     "name": "stdout",
     "output_type": "stream",
     "text": [
      "[ 1  2  3  4  5  6  7  8  9 10 11 12 13 14 15 16]\n"
     ]
    }
   ],
   "source": [
    "arr2 = np.arange(1,17)\n",
    "print(arr2)"
   ]
  },
  {
   "cell_type": "code",
   "execution_count": 17,
   "id": "03f41346",
   "metadata": {},
   "outputs": [
    {
     "name": "stdout",
     "output_type": "stream",
     "text": [
      "[[10 10 10]\n",
      " [10 10 10]]\n"
     ]
    }
   ],
   "source": [
    "arr3 = np.full((2,3),10)\n",
    "print(arr3)"
   ]
  },
  {
   "cell_type": "code",
   "execution_count": 35,
   "id": "175c3c34",
   "metadata": {},
   "outputs": [
    {
     "name": "stdout",
     "output_type": "stream",
     "text": [
      "[0 1 2 3 4]\n",
      "[1. 1. 1. 1. 1.]\n",
      "int64\n",
      "float64\n"
     ]
    },
    {
     "data": {
      "text/plain": [
       "dtype('float64')"
      ]
     },
     "execution_count": 35,
     "metadata": {},
     "output_type": "execute_result"
    }
   ],
   "source": [
    "arr4 = np.arange(5)\n",
    "arr5 = np.ones(5)\n",
    "print(arr4)\n",
    "print(arr5)\n",
    "print(arr4.dtype)\n",
    "print(arr5.dtype)"
   ]
  },
  {
   "cell_type": "markdown",
   "id": "1dffe16a",
   "metadata": {},
   "source": [
    "#### WAP to define 2  numpy array and display its addition. "
   ]
  },
  {
   "cell_type": "code",
   "execution_count": 44,
   "id": "5ebc517b",
   "metadata": {},
   "outputs": [
    {
     "name": "stdout",
     "output_type": "stream",
     "text": [
      "[[ 1  2  3  4  5]\n",
      " [ 6  7  8  9 10]] \n",
      "\n",
      "\n",
      "[[11 12 13 14 15]\n",
      " [16 17 18 19 20]] \n",
      "\n",
      "\n",
      "[[12 14 16 18 20]\n",
      " [22 24 26 28 30]] \n",
      "\n",
      "\n"
     ]
    }
   ],
   "source": [
    "arr10 = np.array([list(range(1,6)),list(range(6,11))])\n",
    "arr11 = np.array([list(range(11,16)),list(range(16,21))])\n",
    "res1 = arr10 + arr11\n",
    "print(arr10,\"\\n\\n\")\n",
    "print(arr11,\"\\n\\n\")\n",
    "print(res1,\"\\n\\n\")"
   ]
  },
  {
   "cell_type": "code",
   "execution_count": 45,
   "id": "b86b7b73",
   "metadata": {},
   "outputs": [
    {
     "name": "stdout",
     "output_type": "stream",
     "text": [
      "[7 0 2 3 5] \n",
      "\n",
      "\n",
      "[1 5 4 8 7] \n",
      "\n",
      "\n",
      "[ 8  5  6 11 12] \n",
      "\n",
      "\n"
     ]
    }
   ],
   "source": [
    "arr12 = np.random.randint(0,10,5)\n",
    "arr13 = np.random.randint(0,10,5)\n",
    "res2 = arr12 + arr13\n",
    "print(arr12,\"\\n\\n\")\n",
    "print(arr13,\"\\n\\n\")\n",
    "print(res2,\"\\n\\n\")"
   ]
  },
  {
   "cell_type": "markdown",
   "id": "080a1d97",
   "metadata": {},
   "source": [
    "#### WAP 2 array, compare each no, find how many times arr1 was greater  "
   ]
  },
  {
   "cell_type": "code",
   "execution_count": 51,
   "id": "e572e721",
   "metadata": {},
   "outputs": [
    {
     "name": "stdout",
     "output_type": "stream",
     "text": [
      "[69 17  9 42 55 11 39 85 59  2] \n",
      "\n",
      "\n",
      "[33 23 56 28 75 97 25 13 15 68] \n",
      "\n",
      "\n",
      "5\n"
     ]
    }
   ],
   "source": [
    "arr20 =  np.random.randint(0,101,10)\n",
    "arr21 =  np.random.randint(0,101,10)\n",
    "no_of_times = 0\n",
    "for i in range(10):\n",
    "    if(arr20[i]>arr21[i]):\n",
    "        no_of_times += 1\n",
    "\n",
    "print(arr20,\"\\n\\n\")\n",
    "print(arr21,\"\\n\\n\")        \n",
    "print(no_of_times)\n"
   ]
  },
  {
   "cell_type": "markdown",
   "id": "c55c270e",
   "metadata": {},
   "source": [
    "#### WAP to find avg marks, and marks above avg "
   ]
  },
  {
   "cell_type": "code",
   "execution_count": 55,
   "id": "a98026f6",
   "metadata": {},
   "outputs": [
    {
     "name": "stdout",
     "output_type": "stream",
     "text": [
      "[62 94 66 59 58 32 57 89 50 74] \n",
      "\n",
      "\n",
      "avg marks =  64.1\n",
      "student1 has scored: 94\n",
      "student2 has scored: 66\n",
      "student7 has scored: 89\n",
      "student9 has scored: 74\n"
     ]
    }
   ],
   "source": [
    "arr30 =  np.random.randint(30,101,10)\n",
    "\n",
    "avg_marks = np.sum(arr30)/10\n",
    "\n",
    "print(arr30,\"\\n\\n\")\n",
    "print(\"avg marks = \", avg_marks)\n",
    "for i in range(10):\n",
    "    if(arr30[i]>= avg_marks):\n",
    "        print(f\"student{i} has scored: {arr30[i]}\")"
   ]
  },
  {
   "cell_type": "code",
   "execution_count": null,
   "id": "b3f942c0",
   "metadata": {},
   "outputs": [],
   "source": []
  }
 ],
 "metadata": {
  "kernelspec": {
   "display_name": "Python 3 (ipykernel)",
   "language": "python",
   "name": "python3"
  },
  "language_info": {
   "codemirror_mode": {
    "name": "ipython",
    "version": 3
   },
   "file_extension": ".py",
   "mimetype": "text/x-python",
   "name": "python",
   "nbconvert_exporter": "python",
   "pygments_lexer": "ipython3",
   "version": "3.11.4"
  }
 },
 "nbformat": 4,
 "nbformat_minor": 5
}
