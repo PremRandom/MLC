{
 "cells": [
  {
   "cell_type": "markdown",
   "id": "1185d22e",
   "metadata": {},
   "source": [
    "# Lab 3 - Numpy"
   ]
  },
  {
   "cell_type": "markdown",
   "id": "128833cb",
   "metadata": {},
   "source": [
    "### np.array "
   ]
  },
  {
   "cell_type": "code",
   "execution_count": 1,
   "id": "9ac3e8bd",
   "metadata": {},
   "outputs": [],
   "source": [
    "#import\n",
    "import numpy as np"
   ]
  },
  {
   "cell_type": "code",
   "execution_count": 2,
   "id": "4c0932d5",
   "metadata": {},
   "outputs": [
    {
     "name": "stdout",
     "output_type": "stream",
     "text": [
      "[1 2 3]\n"
     ]
    }
   ],
   "source": [
    "a = np.array([1,2,3])\n",
    "print(a)"
   ]
  },
  {
   "cell_type": "code",
   "execution_count": 3,
   "id": "1d1739f9",
   "metadata": {},
   "outputs": [
    {
     "name": "stdout",
     "output_type": "stream",
     "text": [
      "[[2 3 4 5]\n",
      " [3 4 5 6]]\n"
     ]
    }
   ],
   "source": [
    "l1 = [2,3,4,5]\n",
    "l2 = [3,4,5,6]\n",
    "b = np.array([l1,l2])\n",
    "print(b)"
   ]
  },
  {
   "cell_type": "code",
   "execution_count": 4,
   "id": "48ad9bf5",
   "metadata": {},
   "outputs": [
    {
     "name": "stdout",
     "output_type": "stream",
     "text": [
      "[0, 1, 2]\n",
      "3\n",
      "[0 1 2]\n",
      "3\n"
     ]
    }
   ],
   "source": [
    "x  = list(range(3))\n",
    "y = np.array(x)\n",
    "print(x)\n",
    "print(sum(x))\n",
    "print(y)\n",
    "print(np.sum(y))"
   ]
  },
  {
   "cell_type": "code",
   "execution_count": 5,
   "id": "ae208e4f",
   "metadata": {},
   "outputs": [
    {
     "name": "stdout",
     "output_type": "stream",
     "text": [
      "[0 1 2 3]\n"
     ]
    }
   ],
   "source": [
    "z = np.array(range(4))\n",
    "print(z)"
   ]
  },
  {
   "cell_type": "markdown",
   "id": "e1a6bf8f",
   "metadata": {},
   "source": [
    "### 2-D array "
   ]
  },
  {
   "cell_type": "code",
   "execution_count": 6,
   "id": "81d67ad4",
   "metadata": {},
   "outputs": [
    {
     "name": "stdout",
     "output_type": "stream",
     "text": [
      "[['1' '2' '3']\n",
      " ['2.3' 'hello' '3']]\n"
     ]
    }
   ],
   "source": [
    "mat = np.array([[1,2,3],[2.3,'hello', 3]])\n",
    "print(mat)"
   ]
  },
  {
   "cell_type": "markdown",
   "id": "6d94ee2c",
   "metadata": {},
   "source": [
    "### Dimension, shape and size"
   ]
  },
  {
   "cell_type": "code",
   "execution_count": 13,
   "id": "04128b8c",
   "metadata": {},
   "outputs": [
    {
     "name": "stdout",
     "output_type": "stream",
     "text": [
      "[['1' '2' '3' '5']\n",
      " ['4' '2.3' 'hello' 'ITER']]\n",
      "dimension:  2\n",
      "Shape:  (2, 4)\n",
      "Size:  8\n"
     ]
    }
   ],
   "source": [
    "mat2 = np.array([[1,2,3,5],[4,2.3,'hello', 'ITER']])\n",
    "print(mat2)\n",
    "print(\"dimension: \",mat2.ndim)\n",
    "print(\"Shape: \",mat2.shape)\n",
    "print(\"Size: \",mat2.size)"
   ]
  },
  {
   "cell_type": "code",
   "execution_count": null,
   "id": "4d5b3511",
   "metadata": {},
   "outputs": [],
   "source": []
  }
 ],
 "metadata": {
  "kernelspec": {
   "display_name": "Python 3 (ipykernel)",
   "language": "python",
   "name": "python3"
  },
  "language_info": {
   "codemirror_mode": {
    "name": "ipython",
    "version": 3
   },
   "file_extension": ".py",
   "mimetype": "text/x-python",
   "name": "python",
   "nbconvert_exporter": "python",
   "pygments_lexer": "ipython3",
   "version": "3.11.4"
  }
 },
 "nbformat": 4,
 "nbformat_minor": 5
}
