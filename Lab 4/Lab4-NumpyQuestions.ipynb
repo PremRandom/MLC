{
 "cells": [
  {
   "cell_type": "markdown",
   "id": "910750b6",
   "metadata": {},
   "source": [
    "## Lab 4 - Numpy Questions"
   ]
  },
  {
   "cell_type": "code",
   "execution_count": 1,
   "id": "1249f4ae",
   "metadata": {},
   "outputs": [],
   "source": [
    "import numpy as np"
   ]
  },
  {
   "cell_type": "markdown",
   "id": "a1ba9bf9",
   "metadata": {},
   "source": [
    "### reshape and ravel\n"
   ]
  },
  {
   "cell_type": "markdown",
   "id": "230c4ad3",
   "metadata": {},
   "source": [
    "#### 3X4 Array | consecutive no. 1-12 | use reshape() and ravel() "
   ]
  },
  {
   "cell_type": "code",
   "execution_count": 2,
   "id": "02bfd395",
   "metadata": {},
   "outputs": [
    {
     "name": "stdout",
     "output_type": "stream",
     "text": [
      "[[ 1  2  3  4]\n",
      " [ 5  6  7  8]\n",
      " [ 9 10 11 12]] \n",
      "\n",
      "[[ 1  2  3  4  5  6]\n",
      " [ 7  8  9 10 11 12]] \n",
      "\n",
      "[ 1  2  3  4  5  6  7  8  9 10 11 12] \n",
      "\n"
     ]
    }
   ],
   "source": [
    "arr1 = np.array([list(range(1,5)),list(range(5,9)),list(range(9,13))])\n",
    "\n",
    "arr2 = arr1.reshape(2,6)\n",
    "arr3 = arr1.ravel()\n",
    "\n",
    "print(arr1,\"\\n\")\n",
    "print(arr2,\"\\n\")\n",
    "print(arr3,\"\\n\")"
   ]
  },
  {
   "cell_type": "code",
   "execution_count": 3,
   "id": "58686b00",
   "metadata": {
    "scrolled": true
   },
   "outputs": [
    {
     "name": "stdout",
     "output_type": "stream",
     "text": [
      "[[ 1  2  3  4]\n",
      " [ 5  6  7  8]\n",
      " [ 9 10 11 12]] \n",
      "\n",
      "[[ 1  2  3]\n",
      " [ 4  5  6]\n",
      " [ 7  8  9]\n",
      " [10 11 12]] \n",
      "\n",
      "[ 1  2  3  4  5  6  7  8  9 10 11 12] \n",
      "\n",
      "[[ 1  2  3  4  5  6  7  8  9 10 11 12]] \n",
      "\n"
     ]
    }
   ],
   "source": [
    "arr4 = np.arange(1,13).reshape(3,4)\n",
    "\n",
    "\n",
    "arr5 = arr4.reshape(4,3)\n",
    "arr6 = arr4.ravel()\n",
    "arr7 = arr4.reshape(1,-1)\n",
    "\n",
    "print(arr4,\"\\n\")\n",
    "print(arr5,\"\\n\")\n",
    "print(arr6,\"\\n\")\n",
    "print(arr7,\"\\n\")"
   ]
  },
  {
   "cell_type": "markdown",
   "id": "a13b7327",
   "metadata": {},
   "source": [
    "#### Roll dice 1000 times | numpy randint | count freq of each outcome | display as dict {face --> count}"
   ]
  },
  {
   "cell_type": "code",
   "execution_count": 29,
   "id": "4bf58cea",
   "metadata": {},
   "outputs": [
    {
     "name": "stdout",
     "output_type": "stream",
     "text": [
      "{1: 173, 2: 163, 3: 184, 4: 169, 5: 142, 6: 169}\n"
     ]
    }
   ],
   "source": [
    "rolls = np.random.randint(1,7,1000)\n",
    "\n",
    "#freq = {i: np.sum(rolls == i) for i in range(1,7)}\n",
    "freq = {}\n",
    "for i in range(1,7):\n",
    "    freq[i] = np.sum(rolls == i)\n",
    "print(freq)"
   ]
  }
 ],
 "metadata": {
  "kernelspec": {
   "display_name": "Python 3 (ipykernel)",
   "language": "python",
   "name": "python3"
  },
  "language_info": {
   "codemirror_mode": {
    "name": "ipython",
    "version": 3
   },
   "file_extension": ".py",
   "mimetype": "text/x-python",
   "name": "python",
   "nbconvert_exporter": "python",
   "pygments_lexer": "ipython3",
   "version": "3.11.4"
  }
 },
 "nbformat": 4,
 "nbformat_minor": 5
}
