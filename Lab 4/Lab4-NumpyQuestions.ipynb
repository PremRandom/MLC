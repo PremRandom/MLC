{
 "cells": [
  {
   "cell_type": "markdown",
   "id": "910750b6",
   "metadata": {},
   "source": [
    "## Lab 4 - Numpy Questions"
   ]
  },
  {
   "cell_type": "code",
   "execution_count": 1,
   "id": "1249f4ae",
   "metadata": {},
   "outputs": [],
   "source": [
    "import numpy as np"
   ]
  },
  {
   "cell_type": "markdown",
   "id": "a1ba9bf9",
   "metadata": {},
   "source": [
    "### reshape and ravel\n"
   ]
  },
  {
   "cell_type": "markdown",
   "id": "230c4ad3",
   "metadata": {},
   "source": [
    "#### 3X4 Array | consecutive no. 1-12 | use reshape() and ravel() "
   ]
  },
  {
   "cell_type": "code",
   "execution_count": 2,
   "id": "02bfd395",
   "metadata": {},
   "outputs": [
    {
     "name": "stdout",
     "output_type": "stream",
     "text": [
      "[[ 1  2  3  4]\n",
      " [ 5  6  7  8]\n",
      " [ 9 10 11 12]] \n",
      "\n",
      "[[ 1  2  3  4  5  6]\n",
      " [ 7  8  9 10 11 12]] \n",
      "\n",
      "[ 1  2  3  4  5  6  7  8  9 10 11 12] \n",
      "\n"
     ]
    }
   ],
   "source": [
    "arr1 = np.array([list(range(1,5)),list(range(5,9)),list(range(9,13))])\n",
    "\n",
    "arr2 = arr1.reshape(2,6)\n",
    "arr3 = arr1.ravel()\n",
    "\n",
    "print(arr1,\"\\n\")\n",
    "print(arr2,\"\\n\")\n",
    "print(arr3,\"\\n\")"
   ]
  },
  {
   "cell_type": "code",
   "execution_count": 3,
   "id": "58686b00",
   "metadata": {
    "scrolled": true
   },
   "outputs": [
    {
     "name": "stdout",
     "output_type": "stream",
     "text": [
      "[[ 1  2  3  4]\n",
      " [ 5  6  7  8]\n",
      " [ 9 10 11 12]] \n",
      "\n",
      "[[ 1  2  3]\n",
      " [ 4  5  6]\n",
      " [ 7  8  9]\n",
      " [10 11 12]] \n",
      "\n",
      "[ 1  2  3  4  5  6  7  8  9 10 11 12] \n",
      "\n",
      "[[ 1  2  3  4  5  6  7  8  9 10 11 12]] \n",
      "\n"
     ]
    }
   ],
   "source": [
    "arr4 = np.arange(1,13).reshape(3,4)\n",
    "\n",
    "\n",
    "arr5 = arr4.reshape(4,3)\n",
    "arr6 = arr4.ravel()\n",
    "arr7 = arr4.reshape(1,12)\n",
    "\n",
    "print(arr4,\"\\n\")\n",
    "print(arr5,\"\\n\")\n",
    "print(arr6,\"\\n\")\n",
    "print(arr7,\"\\n\")"
   ]
  },
  {
   "cell_type": "markdown",
   "id": "62b14e88",
   "metadata": {},
   "source": [
    "#### Roll dice 1000 times | numpy randint | count freq of each outcome | display as dict {face --> count}"
   ]
  },
  {
   "cell_type": "code",
   "execution_count": 4,
   "id": "5efd135d",
   "metadata": {},
   "outputs": [
    {
     "name": "stdout",
     "output_type": "stream",
     "text": [
      "{1: 178, 2: 147, 3: 163, 4: 172, 5: 178, 6: 162}\n"
     ]
    }
   ],
   "source": [
    "rolls = np.random.randint(1,7,1000)\n",
    "\n",
    "#freq = {i: np.sum(rolls == i) for i in range(1,7)}\n",
    "freq = {}\n",
    "for i in range(1,7):\n",
    "    freq[i] = np.sum(rolls == i)\n",
    "print(freq)"
   ]
  },
  {
   "cell_type": "markdown",
   "id": "96ae821e",
   "metadata": {},
   "source": [
    "#### for 2 matrix find | Multiplication | determinant | inverse "
   ]
  },
  {
   "cell_type": "code",
   "execution_count": 13,
   "id": "b049b7f9",
   "metadata": {},
   "outputs": [
    {
     "name": "stdout",
     "output_type": "stream",
     "text": [
      "Matrix A :\n",
      " [[4 2 0]\n",
      " [0 2 2]\n",
      " [3 3 0]] \n",
      "\n",
      "Matrix B :\n",
      " [[2 1 1]\n",
      " [4 2 0]\n",
      " [0 1 0]] \n",
      "\n",
      "Multiplication -- Matrix A X Matrix B:\n",
      " [[16  8  4]\n",
      " [ 8  6  0]\n",
      " [18  9  3]] \n",
      "\n",
      "Deteminant 0f Matrix A :  -11.999999999999995 \n",
      "\n",
      "Deteminant 0f Matrix B :  4.0 \n",
      "\n",
      "Inverse 0f Matrix A :\n",
      " [[ 0.5         0.         -0.33333333]\n",
      " [-0.5         0.          0.66666667]\n",
      " [ 0.5         0.5        -0.66666667]] \n",
      "\n",
      "Inverse 0f Matrix B :\n",
      " [[ 0.    0.25 -0.5 ]\n",
      " [ 0.    0.    1.  ]\n",
      " [ 1.   -0.5   0.  ]] \n",
      "\n"
     ]
    }
   ],
   "source": [
    "matA = np.random.randint(0,5,9).reshape(3,3)\n",
    "matB = np.random.randint(0,5,9).reshape(3,3)\n",
    "\n",
    "print(\"Matrix A :\\n\",matA, \"\\n\")\n",
    "print(\"Matrix B :\\n\",matB, \"\\n\")\n",
    "\n",
    "mul = np.dot(matA, matB)\n",
    "\n",
    "detA = np.linalg.det(matA)\n",
    "detB = np.linalg.det(matB)\n",
    "\n",
    "invA = 0\n",
    "invB = 0\n",
    "\n",
    "if (detA != 0):\n",
    "    invA = np.linalg.inv(matA)\n",
    "\n",
    "if (detB != 0):\n",
    "    invB = np.linalg.inv(matB)\n",
    "\n",
    "\n",
    "print(\"Multiplication -- Matrix A X Matrix B:\\n\",mul, \"\\n\")\n",
    "\n",
    "print(\"Deteminant 0f Matrix A : \",detA, \"\\n\")\n",
    "print(\"Deteminant 0f Matrix B : \",detB, \"\\n\")\n",
    "\n",
    "print(\"Inverse 0f Matrix A :\\n\",invA, \"\\n\")\n",
    "print(\"Inverse 0f Matrix B :\\n\",invB, \"\\n\")\n",
    "\n"
   ]
  }
 ],
 "metadata": {
  "kernelspec": {
   "display_name": "Python 3 (ipykernel)",
   "language": "python",
   "name": "python3"
  },
  "language_info": {
   "codemirror_mode": {
    "name": "ipython",
    "version": 3
   },
   "file_extension": ".py",
   "mimetype": "text/x-python",
   "name": "python",
   "nbconvert_exporter": "python",
   "pygments_lexer": "ipython3",
   "version": "3.11.4"
  }
 },
 "nbformat": 4,
 "nbformat_minor": 5
}
